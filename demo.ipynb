{
 "cells": [
  {
   "cell_type": "markdown",
   "metadata": {},
   "source": [
    "## If you want to follow the procedure by functions, you can run the code below by sequence..."
   ]
  },
  {
   "cell_type": "markdown",
   "metadata": {},
   "source": [
    "## Load packages"
   ]
  },
  {
   "cell_type": "code",
   "execution_count": 1,
   "metadata": {},
   "outputs": [],
   "source": [
    "# encoding: utf-8\n",
    "from selenium import webdriver\n",
    "import shutil\n",
    "import time\n",
    "import logging\n",
    "import os\n",
    "import re\n",
    "import tqdm\n",
    "from selenium.webdriver.common.by import By\n",
    "from selenium.webdriver.support import wait, expected_conditions"
   ]
  },
  {
   "cell_type": "markdown",
   "metadata": {},
   "source": [
    "## Set up param"
   ]
  },
  {
   "cell_type": "code",
   "execution_count": 2,
   "metadata": {},
   "outputs": [
    {
     "name": "stderr",
     "output_type": "stream",
     "text": [
      "<ipython-input-2-a13ceaf8bf68>:8: DeprecationWarning: executable_path has been deprecated, please pass in a Service object\n",
      "  driver = webdriver.Chrome(\n"
     ]
    }
   ],
   "source": [
    "\n",
    "################ Set up parameters here #####################\n",
    "default_download_path = \"D:/Downloads/\"\n",
    "    # The first string should be the path where your file is downloaded to by default.\n",
    "    # Most likely, it should be like: \"C://Users/usr_name/Downloads\"\n",
    "path = \"results/search_1\"\n",
    "query = \"TI=(pFind) AND PY=(2016-2022)\"\n",
    "    # These are the task to be searched\n",
    "driver = webdriver.Chrome(\n",
    "    executable_path='C://Program Files//Google//Chrome//Application//chromedriver.exe'\n",
    "    # This is the path where you place your chromedriver\n",
    ")\n",
    "#############################################################\n",
    "\n",
    "if not default_download_path.endswith(\"/savedrecs.txt\"):\n",
    "    default_download_path += \"/savedrecs.txt\"\n",
    "driver.get(\"https://www.webofscience.com/\")"
   ]
  },
  {
   "cell_type": "markdown",
   "metadata": {},
   "source": [
    "## Login in if your ip cannot visit WoS"
   ]
  },
  {
   "cell_type": "code",
   "execution_count": 3,
   "metadata": {},
   "outputs": [],
   "source": [
    "# Login\n",
    "try:\n",
    "    driver.find_element(By.XPATH, '//div[@class=\"shibboleth-login-form\"]')\n",
    "    input('Login before going next...\\n')\n",
    "except:\n",
    "    pass\n"
   ]
  },
  {
   "cell_type": "markdown",
   "metadata": {},
   "source": [
    "## Close the annoying pop windows"
   ]
  },
  {
   "cell_type": "code",
   "execution_count": 4,
   "metadata": {},
   "outputs": [],
   "source": [
    "def close_pendo_windows(driver):\n",
    "    '''Close guiding windows'''\n",
    "    # Cookies\n",
    "    try:\n",
    "        driver.find_element(By.XPATH, '//*[@id=\"onetrust-accept-btn-handler\"]').click()\n",
    "    except:\n",
    "        pass\n",
    "    # \"Got it\"\n",
    "    try:\n",
    "        driver.find_element(By.XPATH, '//button[contains(@class, \"_pendo-button-primaryButton\")]').click()\n",
    "    except:\n",
    "        pass\n",
    "    # \"No thanks\"\n",
    "    try:\n",
    "        driver.find_element(By.XPATH, '//button[contains(@class, \"_pendo-button-secondaryButton\")]').click()\n",
    "    except:\n",
    "        pass\n",
    "    # What was it... I forgot...\n",
    "    try:\n",
    "        driver.find_element(By.XPATH, '//span[contains(@class, \"_pendo-close-guide\")').click()\n",
    "    except:\n",
    "        pass\n",
    "    # Overlay\n",
    "    try:\n",
    "        driver.find_element(By.XPATH, '//div[contains(@class, \"cdk-overlay-container\")').click()\n",
    "    except:\n",
    "        pass      "
   ]
  },
  {
   "cell_type": "markdown",
   "metadata": {},
   "source": [
    "## Switch language to English"
   ]
  },
  {
   "cell_type": "code",
   "execution_count": 5,
   "metadata": {},
   "outputs": [],
   "source": [
    "close_pendo_windows(driver)\n",
    "try:\n",
    "    driver.find_element(By.XPATH, '//button[text()[contains(string(), \" 简体中文 \")]]').click()\n",
    "    driver.find_element(By.XPATH, '//button[@lang=\"en\"]').click()\n",
    "except:\n",
    "    pass"
   ]
  },
  {
   "cell_type": "markdown",
   "metadata": {},
   "source": [
    "## Now open the search page and insert the query!\n",
    "ps: If this block does not run successfully, run it again."
   ]
  },
  {
   "cell_type": "code",
   "execution_count": 7,
   "metadata": {},
   "outputs": [
    {
     "data": {
      "text/plain": [
       "<selenium.webdriver.remote.webelement.WebElement (session=\"e876e94ec439c3d9d6dd26bcde04a290\", element=\"90739b51-98e6-4048-8447-42d80683ea05\")>"
      ]
     },
     "execution_count": 7,
     "metadata": {},
     "output_type": "execute_result"
    }
   ],
   "source": [
    "close_pendo_windows(driver)\n",
    "os.makedirs(path, exist_ok=True)\n",
    "\n",
    "driver.get(\"https://www.webofscience.com/wos/alldb/advanced-search\")\n",
    "\n",
    "close_pendo_windows(driver)\n",
    "# Load the page\n",
    "wait.WebDriverWait(driver, 10).until(\n",
    "    expected_conditions.presence_of_element_located((By.XPATH, '//span[contains(@class, \"mat-button-wrapper\") and text()=\" Clear \"]')))\n",
    "\n",
    "# Clear the field\n",
    "driver.find_element(By.XPATH, '//span[contains(@class, \"mat-button-wrapper\") and text()=\" Clear \"]').click()\n",
    "# Insert the query\n",
    "driver.find_element(By.XPATH, '//*[@id=\"advancedSearchInputArea\"]').send_keys(\"{}\".format(query))\n",
    "# Click on the search button\n",
    "driver.find_element(By.XPATH, '//span[contains(@class, \"mat-button-wrapper\") and text()=\" Search \"]').click()\n",
    "\n",
    "# Wait for the query page\n",
    "wait.WebDriverWait(driver, 5).until(\n",
    "    expected_conditions.presence_of_element_located((By.CLASS_NAME, 'title-link')))\n"
   ]
  },
  {
   "cell_type": "markdown",
   "metadata": {},
   "source": [
    "## Export the search results as outbound\n",
    "ps: If this block does not run successfully, run it again."
   ]
  },
  {
   "cell_type": "code",
   "execution_count": 23,
   "metadata": {},
   "outputs": [],
   "source": [
    "close_pendo_windows(driver)\n",
    "try:\n",
    "    driver.find_element(By.XPATH, '//*[contains(@class, \"mat-button-wrapper\") and text()=\"Cancel \"]').click()\n",
    "except:\n",
    "    pass\n",
    "# Not support search for more than 1000 results yet\n",
    "assert int(driver.find_element(By.XPATH, '//span[contains(@class, \"end-page\")]').text) < 1000, \"Sorry, too many results!\"\n",
    "# File should not exist on default download folder\n",
    "assert not os.path.exists(default_download_path), \"File existed on default download folder!\"\n",
    "\n",
    "# Click on \"Export\"          \n",
    "driver.find_element(By.XPATH, '//span[contains(@class, \"mat-button-wrapper\") and text()=\" Export \"]').click()\n",
    "time.sleep(0.5)\n",
    "# Click on \"Plain text file\"  \n",
    "try:\n",
    "    driver.find_element(By.XPATH, '//button[contains(@class, \"mat-menu-item\") and text()=\" Plain text file \"]').click()\n",
    "except:\n",
    "    driver.find_element(By.XPATH, '//button[contains(@class, \"mat-menu-item\") and @aria-label=\"Plain text file\"]').click()\n",
    "# Click on \"Records from:\"\n",
    "driver.find_element(By.XPATH, '//span[text()[contains(string(), \"Records from:\")]]').click()\n",
    "# Click on \"Export\"\n",
    "driver.find_element(By.XPATH, '//span[contains(@class, \"ng-star-inserted\") and text()=\"Export\"]').click()\n",
    "# Wait for download to complete\n",
    "for retry_download in range(4):\n",
    "    time.sleep(1)\n",
    "    try:\n",
    "        # If there is any \"Internal error\"\n",
    "        wait.WebDriverWait(driver, 2).until(\n",
    "            expected_conditions.presence_of_element_located((By.XPATH, '//div[text()=\"Server encountered an internal error\"]'))) \n",
    "        driver.find_element(By.XPATH, '//div[text()=\"Server encountered an internal error\"]')\n",
    "        driver.find_element(By.XPATH, '//*[contains(@class, \"ng-star-inserted\") and text()=\"Export\"]').click()\n",
    "    except:\n",
    "        if os.path.exists(default_download_path):\n",
    "            break\n",
    "# Download completed\n",
    "assert os.path.exists(default_download_path), \"File not found! Run this block again.\""
   ]
  },
  {
   "cell_type": "markdown",
   "metadata": {},
   "source": [
    "## Move the outbound to dest folder. Now there should be a file at results/search_1/record.txt"
   ]
  },
  {
   "cell_type": "code",
   "execution_count": 24,
   "metadata": {},
   "outputs": [],
   "source": [
    "shutil.move(default_download_path, os.path.join(path, 'record.txt'))\n",
    "logging.debug(f'Outbound saved in {path}')\n",
    "# Load the downloaded outbound (for debug)\n",
    "with open(os.path.join(path, 'record.txt'), \"r\", encoding='utf-8') as f_outbound:\n",
    "    n_record_ref = len(re.findall(\"\\nER\\n\", f_outbound.read()))\n",
    "    assert n_record_ref == int(\"\".join(driver.find_element(By.XPATH, '//span[contains(@class, \"brand-blue\")]').text.split(\",\"))), \"Records num do not match outbound num\""
   ]
  },
  {
   "cell_type": "markdown",
   "metadata": {},
   "source": [
    "## Below are some functions required for the next block"
   ]
  },
  {
   "cell_type": "code",
   "execution_count": 25,
   "metadata": {},
   "outputs": [],
   "source": [
    "\n",
    "def download_record(driver, path, records_id):\n",
    "    '''Download a page'''\n",
    "    # Load the page or throw exception\n",
    "    wait.WebDriverWait(driver, 10).until(\n",
    "        expected_conditions.presence_of_element_located((By.XPATH, '//h2[contains(@class, \"title\")]')))\n",
    "\n",
    "    # Download the record\n",
    "    with open(os.path.join(path, f'record-{records_id}.html'), 'w', encoding='utf-8') as file:\n",
    "        file.write(driver.page_source)\n",
    "        logging.debug(f'record #{records_id} saved in {path}')\n",
    "\n",
    "def process_record(driver, path, records_id):\n",
    "    '''Parse a page'''\n",
    "    # Show all authors and save raw data\n",
    "    try:\n",
    "        driver.find_element(By.XPATH, '//button[text()=\"...More\"]').click()                \n",
    "    except:\n",
    "        pass\n",
    "    with open(os.path.join(path, f'record-{records_id}.dat'), 'w', encoding='utf-8') as file:\n",
    "        file.write(driver.page_source)\n",
    "        logging.debug(f'record #{records_id} saved in {path}')  \n",
    "\n",
    "\n",
    "def process_windows(driver, path, records_id):\n",
    "    '''Process all subpages'''\n",
    "    handles = driver.window_handles\n",
    "    has_error = False\n",
    "    for i_handle in range(len(driver.window_handles)-1, 0, -1): # traverse in reverse order\n",
    "        # Switch to the window and load the page\n",
    "        driver.switch_to.window(handles[i_handle])\n",
    "        close_pendo_windows(driver)\n",
    "        try:\n",
    "            download_record(driver, path, records_id)\n",
    "            process_record(driver, path, records_id)\n",
    "        except:\n",
    "            logging.error(\"Record downloading failed!\")\n",
    "            has_error = True\n",
    "        records_id += 1\n",
    "        driver.close()\n",
    "    driver.switch_to.window(handles[0])\n",
    "    return len(handles) - 1 if not has_error else -1"
   ]
  },
  {
   "cell_type": "markdown",
   "metadata": {},
   "source": [
    "## What are going to do next: click on all the results in new windows, switch to the window and save the page!"
   ]
  },
  {
   "cell_type": "code",
   "execution_count": 26,
   "metadata": {},
   "outputs": [],
   "source": [
    "# Deal with records\n",
    "# init\n",
    "n_record = int(driver.find_element(By.XPATH, '//span[contains(@class, \"brand-blue\")]').text)\n",
    "n_page = (n_record + 50 - 1) // 50\n",
    "assert n_page < 2000, \"Too many pages\"\n",
    "logging.debug(f'{n_record} records found, divided into {n_page} pages')\n",
    "\n",
    "records_id = 0\n",
    "url_set = set()\n",
    "for i_page in range(n_page):\n",
    "    assert len(driver.window_handles) == 1, \"Unexpected windows\"\n",
    "    # Roll down to the bottom of the page to show all results\n",
    "    for i_roll in range(1, 41):\n",
    "        time.sleep(0.1)\n",
    "        driver.execute_script(f'window.scrollTo(0, {i_roll * 500});') \n",
    "    \n",
    "    # Open every record in a new window\n",
    "    windows_count = 0\n",
    "    for record in driver.find_elements(By.XPATH, '//a[contains(@data-ta, \"summary-record-title-link\")]'):\n",
    "        if record.get_attribute(\"href\") in url_set:\n",
    "            # coz some records have more than 1 href link   \n",
    "            continue \n",
    "        else:\n",
    "            url_set.add(record.get_attribute(\"href\"))             \n",
    "        time.sleep(0.5)\n",
    "        driver.execute_script(f'window.open(\\\"{record.get_attribute(\"href\")}\\\");')\n",
    "        windows_count += 1\n",
    "        if windows_count >= 10 and not windows_count % 5:\n",
    "            # Save records and close windows\n",
    "            records_id += process_windows(driver, path, records_id)\n",
    "            time.sleep(5)\n",
    "    \n",
    "    # Save records and close windows\n",
    "    records_id += process_windows(driver, path, records_id)\n",
    "    # Go to the next page\n",
    "    if i_page + 1 < n_page:            \n",
    "        driver.find_element(By.XPATH, '//mat-icon[contains(@svgicon, \"arrowRight\")]').click()"
   ]
  },
  {
   "cell_type": "markdown",
   "metadata": {},
   "source": [
    "## Now all work are done! Close the driver. That's all."
   ]
  },
  {
   "cell_type": "code",
   "execution_count": 27,
   "metadata": {},
   "outputs": [],
   "source": [
    "driver.quit()"
   ]
  }
 ],
 "metadata": {
  "interpreter": {
   "hash": "b3ba2566441a7c06988d0923437866b63cedc61552a5af99d1f4fb67d367b25f"
  },
  "kernelspec": {
   "display_name": "Python 3.8.8 64-bit ('base': conda)",
   "name": "python3"
  },
  "language_info": {
   "codemirror_mode": {
    "name": "ipython",
    "version": 3
   },
   "file_extension": ".py",
   "mimetype": "text/x-python",
   "name": "python",
   "nbconvert_exporter": "python",
   "pygments_lexer": "ipython3",
   "version": "3.8.8"
  },
  "orig_nbformat": 4
 },
 "nbformat": 4,
 "nbformat_minor": 2
}
