{
 "cells": [
  {
   "cell_type": "markdown",
   "source": [
    "## If you want to follow the procedure by functions, you can run the code below by sequence..."
   ],
   "metadata": {}
  },
  {
   "cell_type": "markdown",
   "source": [
    "## Load packages"
   ],
   "metadata": {}
  },
  {
   "cell_type": "code",
   "execution_count": 1,
   "source": [
    "# encoding: utf-8\r\n",
    "from selenium import webdriver\r\n",
    "import shutil\r\n",
    "import time\r\n",
    "import logging\r\n",
    "import os\r\n",
    "import re\r\n",
    "import tqdm\r\n",
    "from selenium.webdriver.common.by import By\r\n",
    "from selenium.webdriver.support import wait, expected_conditions"
   ],
   "outputs": [],
   "metadata": {}
  },
  {
   "cell_type": "markdown",
   "source": [
    "## Set up param"
   ],
   "metadata": {}
  },
  {
   "cell_type": "code",
   "execution_count": 2,
   "source": [
    "\r\n",
    "################ Set up parameters here #####################\r\n",
    "default_download_path = \"C://Users/bigwh/Downloads\" + \"/savedrecs.txt\"\r\n",
    "    # The first string should be the path where your file is downloaded to by default.\r\n",
    "    # Most likely, it should be like: \"C://Users/usr_nm/Downloads\"\r\n",
    "path = \"results/search_1\"\r\n",
    "query = \"TI=(pFind) AND PY=(2016-2022)\"\r\n",
    "    # These are the task to be searched\r\n",
    "driver = webdriver.Chrome(\r\n",
    "    executable_path='C://Program Files//Google//Chrome//Application//chromedriver.exe'\r\n",
    "    # This is the path where you place your chromedriver\r\n",
    ")\r\n",
    "#############################################################\r\n",
    "\r\n",
    "driver.get(\"https://www.webofscience.com/\")"
   ],
   "outputs": [],
   "metadata": {}
  },
  {
   "cell_type": "markdown",
   "source": [
    "## Login in if your ip cannot visit wos"
   ],
   "metadata": {}
  },
  {
   "cell_type": "code",
   "execution_count": 3,
   "source": [
    "# Login\r\n",
    "try:\r\n",
    "    driver.find_element(By.XPATH, '//h3[@class=\"wui-subtitle--app-signin-no-input\"]')\r\n",
    "    input('Login before going next...\\n')\r\n",
    "except:\r\n",
    "    pass\r\n"
   ],
   "outputs": [],
   "metadata": {}
  },
  {
   "cell_type": "markdown",
   "source": [
    "## Close the annoying pop windows"
   ],
   "metadata": {}
  },
  {
   "cell_type": "code",
   "execution_count": 4,
   "source": [
    "def close_pendo_windows(driver):\r\n",
    "    # Cookies\r\n",
    "    try:\r\n",
    "        driver.find_element(By.XPATH, '//*[@id=\"onetrust-accept-btn-handler\"]').click()\r\n",
    "    except:\r\n",
    "        pass\r\n",
    "    # \"Got it\"\r\n",
    "    try:\r\n",
    "        driver.find_element(By.XPATH, '//button[contains(@class, \"_pendo-button-primaryButton\")]').click()\r\n",
    "    except:\r\n",
    "        pass\r\n",
    "    # \"No thanks\"\r\n",
    "    try:\r\n",
    "        driver.find_element(By.XPATH, '//button[contains(@class, \"_pendo-button-secondaryButton\")]').click()\r\n",
    "    except:\r\n",
    "        pass\r\n",
    "    # What was it... I forgot...\r\n",
    "    try:\r\n",
    "        driver.find_element(By.XPATH, '//span[contains(@class, \"_pendo-close-guide\")').click()\r\n",
    "    except:\r\n",
    "        pass\r\n",
    "    # Overlay\r\n",
    "    try:\r\n",
    "        driver.find_element(By.XPATH, '//div[contains(@class, \"cdk-overlay-container\")').click()\r\n",
    "    except:\r\n",
    "        pass      \r\n",
    "close_pendo_windows(driver)"
   ],
   "outputs": [],
   "metadata": {}
  },
  {
   "cell_type": "markdown",
   "source": [
    "## Switch language to English"
   ],
   "metadata": {}
  },
  {
   "cell_type": "code",
   "execution_count": 5,
   "source": [
    "try:\r\n",
    "    driver.find_element(By.XPATH, '//button[text()=\" 简体中文 \"]').click()\r\n",
    "    driver.find_element(By.XPATH, '//button[text()=\"English \"]').click()\r\n",
    "except:\r\n",
    "    pass"
   ],
   "outputs": [],
   "metadata": {}
  },
  {
   "cell_type": "markdown",
   "source": [
    "## Now open the search page and insert the query!\r\n",
    "ps: If this block does not run successfully, run it again."
   ],
   "metadata": {}
  },
  {
   "cell_type": "code",
   "execution_count": 10,
   "source": [
    "close_pendo_windows(driver)\r\n",
    "os.makedirs(path, exist_ok=True)\r\n",
    "\r\n",
    "driver.get(\"https://www.webofscience.com/wos/alldb/advanced-search\")\r\n",
    "\r\n",
    "close_pendo_windows(driver)\r\n",
    "# Load the page\r\n",
    "wait.WebDriverWait(driver, 10).until(\r\n",
    "    expected_conditions.presence_of_element_located((By.XPATH, '//span[contains(@class, \"mat-button-wrapper\") and text()=\" Clear \"]')))\r\n",
    "\r\n",
    "# Clear the field\r\n",
    "driver.find_element(By.XPATH, '//span[contains(@class, \"mat-button-wrapper\") and text()=\" Clear \"]').click()\r\n",
    "# Insert the query\r\n",
    "driver.find_element(By.XPATH, '//*[@id=\"advancedSearchInputArea\"]').send_keys(\"{}\".format(query))\r\n",
    "# Click on the search button\r\n",
    "driver.find_element(By.XPATH, '//span[contains(@class, \"mat-button-wrapper\") and text()=\" Search \"]').click()\r\n",
    "\r\n",
    "# Wait for the query page\r\n",
    "wait.WebDriverWait(driver, 5).until(\r\n",
    "    expected_conditions.presence_of_element_located((By.CLASS_NAME, 'title-link')))\r\n"
   ],
   "outputs": [
    {
     "output_type": "execute_result",
     "data": {
      "text/plain": [
       "<selenium.webdriver.remote.webelement.WebElement (session=\"b0d51c7616270a68c0beffe5efecec16\", element=\"6b6ef3fa-a380-457a-ae11-8a007b572176\")>"
      ]
     },
     "metadata": {},
     "execution_count": 10
    }
   ],
   "metadata": {}
  },
  {
   "cell_type": "markdown",
   "source": [
    "## Export the search results as outbound\r\n",
    "ps: If this block does not run successfully, run it again."
   ],
   "metadata": {}
  },
  {
   "cell_type": "code",
   "execution_count": 12,
   "source": [
    "close_pendo_windows(driver)\r\n",
    "try:\r\n",
    "    driver.find_element(By.XPATH, '//*[contains(@class, \"mat-button-wrapper\") and text()=\"Cancel \"]').click()\r\n",
    "except:\r\n",
    "    pass\r\n",
    "# Not support search for more than 1000 results yet\r\n",
    "assert int(driver.find_element(By.XPATH, '//span[contains(@class, \"end-page\")]').text) < 1000, \"Sorry, too many results!\"\r\n",
    "# File should not exist on default download folder\r\n",
    "assert not os.path.exists(default_download_path), \"File existed on default download folder!\"\r\n",
    "\r\n",
    "# Click on \"Export\"          \r\n",
    "driver.find_element(By.XPATH, '//span[contains(@class, \"mat-button-wrapper\") and text()=\" Export \"]').click()\r\n",
    "# Click on \"Plain text file\"  \r\n",
    "try:\r\n",
    "    driver.find_element(By.XPATH, '//button[contains(@class, \"mat-menu-item\") and text()=\" Plain text file \"]').click()\r\n",
    "except:\r\n",
    "    driver.find_element(By.XPATH, '//button[contains(@class, \"mat-menu-item\") and @aria-label=\"Plain text file\"]').click()\r\n",
    "# Click on \"Records from:\"\r\n",
    "driver.find_element(By.XPATH, '//span[text()=\"Records from:\"]').click()\r\n",
    "# Click on \"Export\"\r\n",
    "driver.find_element(By.XPATH, '//span[contains(@class, \"ng-star-inserted\") and text()=\"Export\"]').click()\r\n",
    "# Wait for download to complete\r\n",
    "for retry_download in range(4):\r\n",
    "    time.sleep(1)\r\n",
    "    try:\r\n",
    "        # If there is any \"Internal error\"\r\n",
    "        wait.WebDriverWait(driver, 2).until(\r\n",
    "            expected_conditions.presence_of_element_located((By.XPATH, '//div[text()=\"Server encountered an internal error\"]'))) \r\n",
    "        driver.find_element(By.XPATH, '//div[text()=\"Server encountered an internal error\"]')\r\n",
    "        driver.find_element(By.XPATH, '//*[contains(@class, \"ng-star-inserted\") and text()=\"Export\"]').click()\r\n",
    "    except:\r\n",
    "        if os.path.exists(default_download_path):\r\n",
    "            break\r\n",
    "# Download completed\r\n",
    "assert os.path.exists(default_download_path), \"File not found! Run this block again.\""
   ],
   "outputs": [],
   "metadata": {}
  },
  {
   "cell_type": "markdown",
   "source": [
    "## Move the outbound to dest folder. Now there should be a file at results/search_1/record.txt"
   ],
   "metadata": {}
  },
  {
   "cell_type": "code",
   "execution_count": 13,
   "source": [
    "shutil.move(default_download_path, os.path.join(path, 'record.txt'))\r\n",
    "logging.debug(f'Outbound saved in {path}')\r\n",
    "# Load the downloaded outbound (for debug)\r\n",
    "with open(os.path.join(path, 'record.txt'), \"r\", encoding='utf-8') as f_outbound:\r\n",
    "    n_record_ref = len(re.findall(\"\\nER\\n\", f_outbound.read()))\r\n",
    "    assert n_record_ref == int(\"\".join(driver.find_element(By.XPATH, '//span[contains(@class, \"brand-blue\")]').text.split(\",\"))), \"Records num do not match outbound num\""
   ],
   "outputs": [],
   "metadata": {}
  },
  {
   "cell_type": "markdown",
   "source": [
    "## Below are some functions required for the next block"
   ],
   "metadata": {}
  },
  {
   "cell_type": "code",
   "execution_count": 14,
   "source": [
    "def download_record(driver, path, records_id):\r\n",
    "    wait.WebDriverWait(driver, 10).until(\r\n",
    "        expected_conditions.presence_of_element_located((By.XPATH, '//h2[contains(@class, \"title\")]')))\r\n",
    "\r\n",
    "    # Download the record\r\n",
    "    with open(os.path.join(path, f'record-{records_id}.html'), 'w', encoding='utf-8') as file:\r\n",
    "        file.write(driver.page_source)\r\n",
    "        logging.debug(f'record #{records_id} saved in {path}')\r\n",
    "\r\n",
    "def process_record(driver, path, records_id):\r\n",
    "    # Show all authors and save raw data\r\n",
    "    try:\r\n",
    "        driver.find_element(By.XPATH, '//*[@id=\"show_more_authors_authors_txt_label\"]').click()                \r\n",
    "    except:\r\n",
    "        pass\r\n",
    "    with open(os.path.join(path, f'record-{records_id}.data'), 'w', encoding='utf-8') as file:\r\n",
    "        file.write(driver.page_source)\r\n",
    "        logging.debug(f'record #{records_id} saved in {path}')  \r\n",
    "\r\n",
    "def process_windows(driver, path, records_id):\r\n",
    "    handles = driver.window_handles\r\n",
    "    for i_handle in range(len(driver.window_handles)-1, 0, -1): # traverse in reverse order\r\n",
    "        # Switch to the window and load the page\r\n",
    "        driver.switch_to.window(handles[i_handle])\r\n",
    "        close_pendo_windows(driver)\r\n",
    "        try:\r\n",
    "            download_record(driver, path, records_id)\r\n",
    "            process_record(driver, path, records_id)\r\n",
    "        except:\r\n",
    "            logging.error(\"Record downloading failed!\")\r\n",
    "        records_id += 1\r\n",
    "        driver.close()\r\n",
    "    driver.switch_to.window(handles[0])\r\n",
    "    return len(handles) - 1"
   ],
   "outputs": [],
   "metadata": {}
  },
  {
   "cell_type": "markdown",
   "source": [
    "## What are going to do next: click on all the results in new windows, switch to the window and save the page!"
   ],
   "metadata": {}
  },
  {
   "cell_type": "code",
   "execution_count": 15,
   "source": [
    "# Deal with records\r\n",
    "# init\r\n",
    "n_record = int(driver.find_element(By.XPATH, '//span[contains(@class, \"brand-blue\")]').text)\r\n",
    "n_page = (n_record + 50 - 1) // 50\r\n",
    "assert n_page < 2000, \"Too many pages\"\r\n",
    "logging.debug(f'{n_record} records found, divided into {n_page} pages')\r\n",
    "\r\n",
    "records_id = 0\r\n",
    "url_set = set()\r\n",
    "for i_page in range(n_page):\r\n",
    "    assert len(driver.window_handles) == 1, \"Unexpected windows\"\r\n",
    "    # Roll down to the bottom of the page to show all results\r\n",
    "    for i_roll in range(1, 41):\r\n",
    "        time.sleep(0.1)\r\n",
    "        driver.execute_script(f'window.scrollTo(0, {i_roll * 500});') \r\n",
    "    \r\n",
    "    # Open every record in a new window\r\n",
    "    windows_count = 0\r\n",
    "    for record in driver.find_elements(By.XPATH, '//a[contains(@data-ta, \"summary-record-title-link\")]'):\r\n",
    "        if record.get_attribute(\"href\") in url_set:\r\n",
    "            # coz some records have more than 1 href link   \r\n",
    "            continue \r\n",
    "        else:\r\n",
    "            url_set.add(record.get_attribute(\"href\"))             \r\n",
    "        time.sleep(0.5)\r\n",
    "        driver.execute_script(f'window.open(\\\"{record.get_attribute(\"href\")}\\\");')\r\n",
    "        windows_count += 1\r\n",
    "        if windows_count >= 10 and not windows_count % 5:\r\n",
    "            # Save records and close windows\r\n",
    "            records_id += process_windows(driver, path, records_id)\r\n",
    "            time.sleep(5)\r\n",
    "    \r\n",
    "    # Save records and close windows\r\n",
    "    records_id += process_windows(driver, path, records_id)\r\n",
    "    # Go to the next page\r\n",
    "    if i_page + 1 < n_page:            \r\n",
    "        driver.find_element(By.XPATH, '//mat-icon[contains(@svgicon, \"arrowRight\")]').click()"
   ],
   "outputs": [],
   "metadata": {}
  },
  {
   "cell_type": "markdown",
   "source": [
    "## Now all work are done! Close the driver. That's all."
   ],
   "metadata": {}
  },
  {
   "cell_type": "code",
   "execution_count": 16,
   "source": [
    "driver.quit()"
   ],
   "outputs": [],
   "metadata": {}
  }
 ],
 "metadata": {
  "orig_nbformat": 4,
  "language_info": {
   "name": "python",
   "version": "3.8.12",
   "mimetype": "text/x-python",
   "codemirror_mode": {
    "name": "ipython",
    "version": 3
   },
   "pygments_lexer": "ipython3",
   "nbconvert_exporter": "python",
   "file_extension": ".py"
  },
  "kernelspec": {
   "name": "python3",
   "display_name": "Python 3.8.12 64-bit ('base': conda)"
  },
  "interpreter": {
   "hash": "b3ba2566441a7c06988d0923437866b63cedc61552a5af99d1f4fb67d367b25f"
  }
 },
 "nbformat": 4,
 "nbformat_minor": 2
}